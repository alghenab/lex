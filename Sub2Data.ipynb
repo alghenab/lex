{
  "nbformat": 4,
  "nbformat_minor": 0,
  "metadata": {
    "colab": {
      "name": "Sub2Data.ipynb",
      "provenance": [],
      "collapsed_sections": []
    },
    "kernelspec": {
      "name": "python3",
      "display_name": "Python 3"
    },
    "language_info": {
      "name": "python"
    }
  },
  "cells": [
    {
      "cell_type": "markdown",
      "source": [
        "## Downloading the subs"
      ],
      "metadata": {
        "id": "CFX4AZPZ6X4T"
      }
    },
    {
      "cell_type": "code",
      "execution_count": null,
      "metadata": {
        "colab": {
          "base_uri": "https://localhost:8080/"
        },
        "id": "Q-660hSeychW",
        "outputId": "0a7c3a58-1fdf-49f5-f746-ef5fdeb33fa0"
      },
      "outputs": [
        {
          "output_type": "stream",
          "name": "stderr",
          "text": [
            "  % Total    % Received % Xferd  Average Speed   Time    Time     Time  Current\n",
            "                                 Dload  Upload   Total   Spent    Left  Speed\n",
            "\r  0     0    0     0    0     0      0      0 --:--:-- --:--:-- --:--:--     0\r  0     0    0     0    0     0      0      0 --:--:-- --:--:-- --:--:--     0\r100   134  100   134    0     0    950      0 --:--:-- --:--:-- --:--:--   943\n",
            "\r100   645  100   645    0     0   2879      0 --:--:-- --:--:-- --:--:--  2879\n",
            "\r100 2394k  100 2394k    0     0  6579k      0 --:--:-- --:--:-- --:--:-- 6579k\n"
          ]
        }
      ],
      "source": [
        "%%bash\n",
        "sudo curl -L https://github.com/yt-dlp/yt-dlp/releases/latest/download/yt-dlp -o /usr/local/bin/yt-dlp\n",
        "sudo chmod a+rx /usr/local/bin/yt-dlp"
      ]
    },
    {
      "cell_type": "code",
      "source": [
        "!mkdir lex\n",
        "%cd lex"
      ],
      "metadata": {
        "colab": {
          "base_uri": "https://localhost:8080/"
        },
        "id": "dJlVRa87Jpv3",
        "outputId": "9a4e189e-a8c6-497c-cc88-30a8914cb728"
      },
      "execution_count": null,
      "outputs": [
        {
          "output_type": "stream",
          "name": "stdout",
          "text": [
            "/content/lex\n"
          ]
        }
      ]
    },
    {
      "cell_type": "code",
      "source": [
        "!yt-dlp --write-auto-sub --skip-download --convert-subs=srt --yes-playlist --ignore-errors https://www.youtube.com/playlist?list=PLrAXtmErZgOdP_8GztsuKi9nrraNbKKp4"
      ],
      "metadata": {
        "id": "waASGYQDz-zL"
      },
      "execution_count": null,
      "outputs": []
    },
    {
      "cell_type": "markdown",
      "source": [
        "## Reformating as txt"
      ],
      "metadata": {
        "id": "prq0_Kje6j8J"
      }
    },
    {
      "cell_type": "code",
      "source": [
        "!wget https://gist.githubusercontent.com/hshrews/e7b4f54edebf661c3dcde33d5d97c4cb/raw/1c9f80f973e3e3f7945d9e6d9da783a51d5b206a/srt_to_txt.py"
      ],
      "metadata": {
        "colab": {
          "base_uri": "https://localhost:8080/"
        },
        "id": "bop_3iO82-hy",
        "outputId": "727ad952-c7c8-43b5-e153-12aad2a45fd5"
      },
      "execution_count": 1,
      "outputs": [
        {
          "output_type": "stream",
          "name": "stdout",
          "text": [
            "--2022-05-03 03:01:06--  https://gist.githubusercontent.com/hshrews/e7b4f54edebf661c3dcde33d5d97c4cb/raw/1c9f80f973e3e3f7945d9e6d9da783a51d5b206a/srt_to_txt.py\n",
            "Resolving gist.githubusercontent.com (gist.githubusercontent.com)... 185.199.108.133, 185.199.109.133, 185.199.110.133, ...\n",
            "Connecting to gist.githubusercontent.com (gist.githubusercontent.com)|185.199.108.133|:443... connected.\n",
            "HTTP request sent, awaiting response... 200 OK\n",
            "Length: 2888 (2.8K) [text/plain]\n",
            "Saving to: ‘srt_to_txt.py’\n",
            "\n",
            "\rsrt_to_txt.py         0%[                    ]       0  --.-KB/s               \rsrt_to_txt.py       100%[===================>]   2.82K  --.-KB/s    in 0s      \n",
            "\n",
            "2022-05-03 03:01:06 (40.0 MB/s) - ‘srt_to_txt.py’ saved [2888/2888]\n",
            "\n"
          ]
        }
      ]
    },
    {
      "cell_type": "code",
      "source": [
        "!cp -r /content/drive/MyDrive/lex /content/\n",
        "%cd lex/"
      ],
      "metadata": {
        "id": "XrBR_0as3UHf"
      },
      "execution_count": 2,
      "outputs": []
    },
    {
      "cell_type": "code",
      "source": [
        "!python srt_to_txt.py /content/lex"
      ],
      "metadata": {
        "id": "uAqgaF3F3jHu"
      },
      "execution_count": 4,
      "outputs": []
    },
    {
      "cell_type": "markdown",
      "source": [
        "## Combining all in one file"
      ],
      "metadata": {
        "id": "5CrYiHw56pvd"
      }
    },
    {
      "cell_type": "code",
      "source": [
        "%cd /content/lex/srt_to_txt\n",
        "!wget https://raw.githubusercontent.com/AidarSource/concatenate/master/script.py\n",
        "!python script.py"
      ],
      "metadata": {
        "colab": {
          "base_uri": "https://localhost:8080/"
        },
        "id": "wEezg8XR4Fyb",
        "outputId": "2cb205a0-2f53-4304-ff76-0fd05b43c756"
      },
      "execution_count": 7,
      "outputs": [
        {
          "output_type": "stream",
          "name": "stdout",
          "text": [
            "/content/lex/srt_to_txt\n",
            "--2022-05-03 03:08:26--  https://raw.githubusercontent.com/AidarSource/concatenate/master/script.py\n",
            "Resolving raw.githubusercontent.com (raw.githubusercontent.com)... 185.199.108.133, 185.199.109.133, 185.199.110.133, ...\n",
            "Connecting to raw.githubusercontent.com (raw.githubusercontent.com)|185.199.108.133|:443... connected.\n",
            "HTTP request sent, awaiting response... 200 OK\n",
            "Length: 411 [text/plain]\n",
            "Saving to: ‘script.py’\n",
            "\n",
            "\rscript.py             0%[                    ]       0  --.-KB/s               \rscript.py           100%[===================>]     411  --.-KB/s    in 0s      \n",
            "\n",
            "2022-05-03 03:08:26 (13.3 MB/s) - ‘script.py’ saved [411/411]\n",
            "\n"
          ]
        }
      ]
    },
    {
      "cell_type": "code",
      "source": [
        "!cp /content/lex/srt_to_txt/all_1651547306.txt /content/drive/MyDrive/lex/data"
      ],
      "metadata": {
        "id": "MpM-gor14UOf"
      },
      "execution_count": 9,
      "outputs": []
    }
  ]
}